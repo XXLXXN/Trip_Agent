{
 "cells": [
  {
   "cell_type": "code",
   "execution_count": 4,
   "id": "03053d20",
   "metadata": {},
   "outputs": [
    {
     "name": "stdout",
     "output_type": "stream",
     "text": [
      "[' reply\\ndata: {\"type\":\"reply\",\"content\":\"aaa\"}\\n', ' token_stat\\ndata: {\"type\":\"token_stat\",\"content\":\"aaa\"}']\n",
      "事件类型：reply，数据：{'type': 'reply', 'content': 'aaa'}\n",
      "事件类型：token_stat，数据：{'type': 'token_stat', 'content': 'aaa'}\n"
     ]
    }
   ],
   "source": [
    "import json\n",
    "response = \"event: reply\\ndata: {\\\"type\\\":\\\"reply\\\",\\\"content\\\":\\\"aaa\\\"}\\nevent: token_stat\\ndata: {\\\"type\\\":\\\"token_stat\\\",\\\"content\\\":\\\"aaa\\\"}\"\n",
    "\n",
    "# 1. 按\"event:\"拆分事件（注意保留第一个\"event:\"）\n",
    "events = response.split(\"event:\")[1:]  # 去掉开头空字符串，得到每个事件的内容\n",
    "print(events)\n",
    "for event_str in events:\n",
    "    # 2. 分割event类型和data（按第一个\"\\n\"拆分）\n",
    "    event_parts = event_str.split(\"\\n\", 1)\n",
    "    event_type = event_parts[0].strip()  # 事件类型（如\"reply\"）\n",
    "    data_str = event_parts[1].strip().lstrip(\"data: \").strip()  # 提取data部分的JSON字符串\n",
    "    # 3. 解析JSON\n",
    "    data = json.loads(data_str)\n",
    "    print(f\"事件类型：{event_type}，数据：{data}\")"
   ]
  }
 ],
 "metadata": {
  "kernelspec": {
   "display_name": "Python 3",
   "language": "python",
   "name": "python3"
  },
  "language_info": {
   "codemirror_mode": {
    "name": "ipython",
    "version": 3
   },
   "file_extension": ".py",
   "mimetype": "text/x-python",
   "name": "python",
   "nbconvert_exporter": "python",
   "pygments_lexer": "ipython3",
   "version": "3.11.2"
  }
 },
 "nbformat": 4,
 "nbformat_minor": 5
}
